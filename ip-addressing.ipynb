{
 "cells": [
  {
   "cell_type": "markdown",
   "metadata": {},
   "source": [
    "# IP Addressing\n",
    "## Divide a class A network 50.0.0.0 into 2 equal networks\n",
    "\n",
    "- The first octect binary bits that adds up to 50 is 00110010.\n",
    "- The next 3 octects are going to be all zeros. So we have 00110010.00000000.00000000.00000000\n",
    "- In Class A, the first octet is the network portion /8 while the remaining octects are the host portion\n",
    "### first subnet\n",
    "- To divide the network, we take the first bit after the network portion and add to the network portion making it /9 this bit is the subnet bit and is 0 for the first subnet giving 50.0.0.0 for the netwrok address\n",
    "- First usable address: Switch the last bit of the host portion to 1 giving 50.0.0.1\n",
    "- Last usable address: will be the opposite of the first usable address. We leave the 9 bits of the network portion unchanged, but change the remaining bits to 1 except for the last bit which will be 0 (i.e broadcast address - 1) giving: 50.127.244.254\n",
    "- Broadcast address is the next IP address after the last usable IP address which is 50.127.255.255\n",
    "### Second subnet\n",
    "- Network address: We change the 9th bit which is the subnet bit to 1 (it was 0 for the first subnet) givin us 00110010.10000000.00000000.00000000 which is 50.128.0.0\n",
    "\n",
    "| Network # | Description | Binary | Decimal |\n",
    "| --- | --- | --- | --- |\n",
    "|1| Network address | 00110010.00000000.00000000.00000000 | 50.0.0.0|\n",
    "| | First usable address | 00110010.00000000.00000000.00000001 | 50.0.0.1 |\n",
    "| | Last usable address | 00110010.01111111.11111111.11111110 | 50.127.255.254 |\n",
    "| | Broadcast address | 00110010.01111111.11111111.11111111 | 50.127.255.255 |\n",
    "| 2 | Network address | 00110010.10000000.00000000.00000000 | 50.128.0.0 |\n",
    "| | First usable address | 00110010.10000000.00000000.00000001 | 50.128.0.1 |\n",
    "| | Last usable address | 00110010.11111111.11111111.11111110 | 50.255.255.254 |\n",
    "| | Broadcast address | 00110010.11111111.11111111.11111111 | 50.255.255.255 |\n",
    "\n",
    "\n",
    "### You need to subnet a class A network: 21.0.0.0 How many class C networks can you create?\n",
    "\n",
    "**Solution:**   \n",
    "**21** . 0 . 0 . 0  /8  <------ Class A  (the first octet represent the network)  \n",
    "**21 . 0 . 0** . 0  /24 <------ Class B  (the first 3 octets represent the network)  \n",
    "\n",
    "Since the first octect represents Class A, we only have the 2nd and 3rd octets (8 + 8) to manipulate for  Class C networks.  \n",
    "\n",
    "Therefore the number of networks possible is 2<sup>16</sup>  = 65536 networks\n",
    "\n",
    "\n",
    "### You need to subnet a class B network: 155 . 3 . 0 . 0. How many class C networks can you create?\n",
    "**155 . 3** . 0 . 0  /16    <------ Class B  \n",
    "**155 . 3 . 0** . 0  /24    <------ Class C  \n",
    "\n",
    "Since the 1st and 2nd octects represent Class B, we only have the 3rd octect to manipulate for  Class C networks.  \n",
    "\n",
    "Therefore the number of possible networks is 2<sup>8</sup>   \n",
    "\n"
   ]
  }
 ],
 "metadata": {
  "language_info": {
   "name": "python"
  },
  "orig_nbformat": 4
 },
 "nbformat": 4,
 "nbformat_minor": 2
}
